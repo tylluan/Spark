{
 "cells": [
  {
   "cell_type": "code",
   "execution_count": null,
   "metadata": {},
   "outputs": [],
   "source": [
    "from __future__ import division\n",
    "from pyspark import SparkConf, SparkContext\n",
    "from pyspark.sql import SparkSession\n",
    "import re\n"
   ]
  },
  {
   "cell_type": "code",
   "execution_count": null,
   "metadata": {},
   "outputs": [],
   "source": [
    "try:\n",
    "    sc = SparkContext(conf=SparkConf().setAppName(\"RiMBD_lab\").setMaster(\"local\").set(\"spark.cores.max\", \"4\"))\n",
    "except:\n",
    "    pass"
   ]
  },
  {
   "cell_type": "code",
   "execution_count": null,
   "metadata": {},
   "outputs": [],
   "source": [
    "try:\n",
    "    spark = SparkSession.builder.master(\"local\").appName(\"RiMBD_lab\").config(\"spark.some.config.option\", \"some-value\").getOrCreate()\n",
    "except:\n",
    "    pass\n"
   ]
  },
  {
   "cell_type": "code",
   "execution_count": null,
   "metadata": {},
   "outputs": [],
   "source": [
    "spark"
   ]
  },
  {
   "cell_type": "code",
   "execution_count": null,
   "metadata": {},
   "outputs": [],
   "source": [
    "sc"
   ]
  },
  {
   "cell_type": "code",
   "execution_count": null,
   "metadata": {},
   "outputs": [],
   "source": [
    "#Równoległe wywołanie polecenia range\n",
    "#wyjście DataFrame \n",
    "\n",
    "firstDataFrame = spark.range(1000000)\n",
    "#display(firstDataFrame)\n",
    "firstDataFrame.show(5)"
   ]
  },
  {
   "cell_type": "code",
   "execution_count": null,
   "metadata": {},
   "outputs": [],
   "source": [
    "# Przykładowa transformacja:\n",
    "# mnożenie kol ID przez 2\n",
    "secondDataFrame = firstDataFrame.selectExpr(\"(id * 2) as value\")\n"
   ]
  },
  {
   "cell_type": "code",
   "execution_count": null,
   "metadata": {},
   "outputs": [],
   "source": [
    "secondDataFrame.show(n=5)\n",
    "secondDataFrame.take(5)"
   ]
  },
  {
   "cell_type": "code",
   "execution_count": null,
   "metadata": {},
   "outputs": [],
   "source": [
    "import os\n",
    "notebook_path = os.path.abspath(\"DemoNotebook.ipynb\")\n",
    "print (notebook_path)"
   ]
  },
  {
   "cell_type": "markdown",
   "metadata": {},
   "source": [
    "Kilka akcji, które możemy wykonać na RDD (zwracają wynik):"
   ]
  },
  {
   "cell_type": "code",
   "execution_count": null,
   "metadata": {},
   "outputs": [],
   "source": [
    "#Tworzenie nowego RDD z pliku tekstowego bbc_news.txt:    \n",
    "bbc_news = sc.textFile(\"/home/jovyan/bbc_news.txt\")"
   ]
  },
  {
   "cell_type": "code",
   "execution_count": null,
   "metadata": {},
   "outputs": [],
   "source": [
    "# Number of items in this RDD\n",
    "bbc_news.count()  "
   ]
  },
  {
   "cell_type": "code",
   "execution_count": null,
   "metadata": {},
   "outputs": [],
   "source": [
    "# First item in this RDD\n",
    "bbc_news.first()  "
   ]
  },
  {
   "cell_type": "code",
   "execution_count": null,
   "metadata": {},
   "outputs": [],
   "source": [
    "#usuwanie pustych linii\n",
    "bbc_news = bbc_news.filter(lambda x: x != \"\")\n",
    "bbc_news.first() "
   ]
  },
  {
   "cell_type": "code",
   "execution_count": null,
   "metadata": {},
   "outputs": [],
   "source": [
    "# Number of items in this RDD\n",
    "bbc_news.count()  "
   ]
  },
  {
   "cell_type": "markdown",
   "metadata": {},
   "source": [
    "Oraz transformacje (zwracają wskaźnik do nowego RDD):"
   ]
  },
  {
   "cell_type": "code",
   "execution_count": null,
   "metadata": {},
   "outputs": [],
   "source": [
    "#Liczba wystąpień słowa 'black'\n",
    "linesWithBlack = bbc_news.filter(lambda line: \"black\" in line)\n",
    "print('To jest nowe RDD: ')\n",
    "print (linesWithBlack)\n",
    "print('Lines with \\'black\\': '+ str(linesWithBlack.count()))\n",
    "\n",
    "#Liczba wystąpień słowa 'police'\n",
    "linesWithPolice = bbc_news.filter(lambda line: \"police\" in line)\n",
    "print('Lines with \\'police\\': '+ str(linesWithPolice.count()))\n"
   ]
  },
  {
   "cell_type": "markdown",
   "metadata": {},
   "source": [
    "Klasyczne zliczanie wystąpień słów:"
   ]
  },
  {
   "cell_type": "code",
   "execution_count": null,
   "metadata": {},
   "outputs": [],
   "source": [
    "\n",
    "wordCounts = bbc_news.flatMap(lambda line: line.split()).map(lambda word: (word, 1)).reduceByKey(lambda a, b: a+b)\n",
    "\n",
    "#wordCounts.collect() #unordered\n",
    "\n",
    "\n",
    "wordCounts.takeOrdered(15, key=lambda(k, v): -v)"
   ]
  },
  {
   "cell_type": "code",
   "execution_count": null,
   "metadata": {},
   "outputs": [],
   "source": [
    "#Download stops words\n",
    "!wget http://tacit.usc.edu/resources/stopwords_eng.txt"
   ]
  },
  {
   "cell_type": "code",
   "execution_count": null,
   "metadata": {},
   "outputs": [],
   "source": [
    "sw = sc.textFile('/home/jovyan/stopwords_eng.txt')\n",
    "sw.take(10)"
   ]
  },
  {
   "cell_type": "code",
   "execution_count": null,
   "metadata": {},
   "outputs": [],
   "source": [
    "sw_collected= sw.collect()\n",
    "no_stop_words_wordCounts = (wordCounts.filter(lambda (k,v): k not in sw_collected))\n",
    "\n",
    "no_stop_words_wordCounts.takeOrdered(15, key=lambda(k, v): -v)\n"
   ]
  },
  {
   "cell_type": "code",
   "execution_count": null,
   "metadata": {},
   "outputs": [],
   "source": [
    "wordCounts.takeOrdered(15, key=lambda(k, v): -v)"
   ]
  },
  {
   "cell_type": "markdown",
   "metadata": {},
   "source": [
    "## Cache'owanie"
   ]
  },
  {
   "cell_type": "code",
   "execution_count": null,
   "metadata": {},
   "outputs": [],
   "source": [
    "bbc_news.cache()  "
   ]
  },
  {
   "cell_type": "code",
   "execution_count": null,
   "metadata": {},
   "outputs": [],
   "source": [
    "bbc_news.count()  "
   ]
  },
  {
   "cell_type": "code",
   "execution_count": null,
   "metadata": {},
   "outputs": [],
   "source": [
    "bbc_news.count()  "
   ]
  },
  {
   "cell_type": "code",
   "execution_count": null,
   "metadata": {},
   "outputs": [],
   "source": [
    "# dane:\n",
    "df_list = [('Polska', 'Warszawa', 1),\n",
    "           ('Polska', 'Krakow', 2),\n",
    "           ('Niemcy', 'Berlin', 1),\n",
    "           ('Niemcy', 'Hamburg', 3),\n",
    "           ('Czechy', 'Praga', 1),\n",
    "           ('Rosja', 'Moskwa', 1),\n",
    "           ('Francja', 'Beauvais', 7)]\n",
    " \n",
    "# budowanie data frame \n",
    "df = spark.createDataFrame(df_list,['kraj', 'miasto', 'liczba'])\n",
    " \n",
    "# wyświetlenie\n",
    "df.show()"
   ]
  },
  {
   "cell_type": "markdown",
   "metadata": {},
   "source": [
    "## SQL"
   ]
  },
  {
   "cell_type": "code",
   "execution_count": null,
   "metadata": {},
   "outputs": [],
   "source": [
    "# tworzenie widoku SQL z DataFrame\n",
    "df_sql = df.createOrReplaceTempView(\"dane\")\n",
    " \n",
    "# tworzenie zapytań SQL\n",
    "sql_results = spark.sql(\"SELECT * FROM dane WHERE kraj='Polska'\")\n",
    " \n",
    "sql_results"
   ]
  },
  {
   "cell_type": "code",
   "execution_count": null,
   "metadata": {},
   "outputs": [],
   "source": [
    "sql_results.show()"
   ]
  },
  {
   "cell_type": "code",
   "execution_count": null,
   "metadata": {},
   "outputs": [],
   "source": [
    "def parse_article(line):\n",
    "    try:\n",
    "        article_id, text = line.rstrip().encode('utf-8').split('\\t', 1)\n",
    "        text = re.sub(\"^\\W+|\\W+$\", \"\", text, flags=re.UNICODE)\n",
    "        words = re.split(\"\\W*\\s+\\W*\", text, flags=re.UNICODE)\n",
    "        return words\n",
    "    except ValueError as e:\n",
    "        return []"
   ]
  },
  {
   "cell_type": "code",
   "execution_count": null,
   "metadata": {},
   "outputs": [],
   "source": [
    "#Nowe RDD zawierające artykuły z wikipedii:    \n",
    "\n",
    "wiki = sc.textFile(\"/data/wiki/en_articles_part/articles-part\", 16).map(parse_article)\n",
    "result = wiki.take(1)[0]\n"
   ]
  },
  {
   "cell_type": "code",
   "execution_count": null,
   "metadata": {},
   "outputs": [],
   "source": [
    "for word in result[:50]:\n",
    "    print word"
   ]
  },
  {
   "cell_type": "code",
   "execution_count": null,
   "metadata": {},
   "outputs": [],
   "source": [
    "def pairs_starting_from_word(words, first_word='word'):\n",
    "    pairs = []\n",
    "    \n",
    "    for i, word in enumerate(words[:-1]):\n",
    "        if (word == first_word):\n",
    "            pair = '{} — {}'.format(word, words[i+1])\n",
    "            cnt = 1\n",
    "            pairs.append((pair, cnt))\n",
    "        else:\n",
    "            continue\n",
    "    return pairs\n",
    "\n"
   ]
  },
  {
   "cell_type": "code",
   "execution_count": null,
   "metadata": {},
   "outputs": [],
   "source": [
    "# lowercase all words\n",
    "wiki_lower = wiki.map(lambda words: [x.lower() for x in words])"
   ]
  },
  {
   "cell_type": "code",
   "execution_count": null,
   "metadata": {},
   "outputs": [],
   "source": [
    "# find pairs starting from defined word\n",
    "wiki_pairs = wiki_lower.flatMap(lambda x: pairs_starting_from_word(x, 'enemy'))"
   ]
  },
  {
   "cell_type": "code",
   "execution_count": null,
   "metadata": {},
   "outputs": [],
   "source": [
    "# filtering empty elements\n",
    "wiki_pairs = wiki_pairs.filter(lambda x: x != [])\n"
   ]
  },
  {
   "cell_type": "code",
   "execution_count": null,
   "metadata": {},
   "outputs": [],
   "source": [
    "# aggregate counters\n",
    "wiki_red = wiki_pairs.reduceByKey(lambda a, b: a + b, numPartitions=16)"
   ]
  },
  {
   "cell_type": "code",
   "execution_count": null,
   "metadata": {},
   "outputs": [],
   "source": [
    "# sort values by key\n",
    "wiki_red_sorted = wiki_red.sortByKey()"
   ]
  },
  {
   "cell_type": "code",
   "execution_count": null,
   "metadata": {},
   "outputs": [],
   "source": [
    "result = wiki_red_sorted.takeOrdered(25, key=lambda(k, v): -v)\n",
    "for pair, cnt in result:\n",
    "    print '{}\\t{}'.format(pair, cnt)"
   ]
  },
  {
   "cell_type": "code",
   "execution_count": null,
   "metadata": {},
   "outputs": [],
   "source": []
  }
 ],
 "metadata": {
  "kernelspec": {
   "display_name": "Python 2",
   "language": "python",
   "name": "python2"
  },
  "language_info": {
   "codemirror_mode": {
    "name": "ipython",
    "version": 2
   },
   "file_extension": ".py",
   "mimetype": "text/x-python",
   "name": "python",
   "nbconvert_exporter": "python",
   "pygments_lexer": "ipython2",
   "version": "2.7.12"
  }
 },
 "nbformat": 4,
 "nbformat_minor": 2
}
