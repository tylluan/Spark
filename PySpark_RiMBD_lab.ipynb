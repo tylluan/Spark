{
 "cells": [
  {
   "cell_type": "code",
   "execution_count": 1,
   "metadata": {},
   "outputs": [],
   "source": [
    "from __future__ import division\n",
    "from pyspark import SparkConf, SparkContext\n",
    "from pyspark.sql import SparkSession\n",
    "import re\n"
   ]
  },
  {
   "cell_type": "code",
   "execution_count": null,
   "metadata": {},
   "outputs": [],
   "source": [
    "try:\n",
    "    sc = SparkContext(conf=SparkConf().setAppName(\"RiMBD_lab\").setMaster(\"local\").set(\"spark.cores.max\", \"4\"))\n",
    "except:\n",
    "    pass"
   ]
  },
  {
   "cell_type": "code",
   "execution_count": 4,
   "metadata": {},
   "outputs": [],
   "source": [
    "try:\n",
    "    spark = SparkSession.builder.master(\"local\").appName(\"RiMBD_lab\").config(\"spark.some.config.option\", \"some-value\").getOrCreate()\n",
    "except:\n",
    "    pass\n"
   ]
  },
  {
   "cell_type": "code",
   "execution_count": 5,
   "metadata": {},
   "outputs": [
    {
     "data": {
      "text/plain": [
       "<pyspark.sql.session.SparkSession at 0x7f9a405ce810>"
      ]
     },
     "execution_count": 5,
     "metadata": {},
     "output_type": "execute_result"
    }
   ],
   "source": [
    "spark"
   ]
  },
  {
   "cell_type": "code",
   "execution_count": 3,
   "metadata": {},
   "outputs": [
    {
     "data": {
      "text/plain": [
       "<pyspark.context.SparkContext at 0x7f9a3815ebd0>"
      ]
     },
     "execution_count": 3,
     "metadata": {},
     "output_type": "execute_result"
    }
   ],
   "source": [
    "sc"
   ]
  },
  {
   "cell_type": "code",
   "execution_count": 6,
   "metadata": {},
   "outputs": [
    {
     "name": "stdout",
     "output_type": "stream",
     "text": [
      "+---+\n",
      "| id|\n",
      "+---+\n",
      "|  0|\n",
      "|  1|\n",
      "|  2|\n",
      "|  3|\n",
      "|  4|\n",
      "+---+\n",
      "only showing top 5 rows\n",
      "\n"
     ]
    }
   ],
   "source": [
    "#Równoległe wywołanie polecenia range\n",
    "#wyjście DataFrame \n",
    "\n",
    "firstDataFrame = spark.range(1000000)\n",
    "#display(firstDataFrame)\n",
    "firstDataFrame.show(5)"
   ]
  },
  {
   "cell_type": "code",
   "execution_count": 7,
   "metadata": {},
   "outputs": [],
   "source": [
    "# Przykładowa transformacja:\n",
    "# mnożenie kol ID przez 2\n",
    "secondDataFrame = firstDataFrame.selectExpr(\"(id * 2) as value\")\n"
   ]
  },
  {
   "cell_type": "code",
   "execution_count": 8,
   "metadata": {},
   "outputs": [
    {
     "name": "stdout",
     "output_type": "stream",
     "text": [
      "+-----+\n",
      "|value|\n",
      "+-----+\n",
      "|    0|\n",
      "|    2|\n",
      "|    4|\n",
      "|    6|\n",
      "|    8|\n",
      "+-----+\n",
      "only showing top 5 rows\n",
      "\n"
     ]
    },
    {
     "data": {
      "text/plain": [
       "[Row(value=0), Row(value=2), Row(value=4), Row(value=6), Row(value=8)]"
      ]
     },
     "execution_count": 8,
     "metadata": {},
     "output_type": "execute_result"
    }
   ],
   "source": [
    "secondDataFrame.show(n=5)\n",
    "secondDataFrame.take(5)"
   ]
  },
  {
   "cell_type": "code",
   "execution_count": 9,
   "metadata": {},
   "outputs": [
    {
     "name": "stdout",
     "output_type": "stream",
     "text": [
      "/home/jovyan/DemoNotebook.ipynb\n"
     ]
    }
   ],
   "source": [
    "import os\n",
    "notebook_path = os.path.abspath(\"DemoNotebook.ipynb\")\n",
    "print (notebook_path)"
   ]
  },
  {
   "cell_type": "markdown",
   "metadata": {},
   "source": [
    "Kilka akcji, które możemy wykonać na RDD (zwracają wynik):"
   ]
  },
  {
   "cell_type": "code",
   "execution_count": 13,
   "metadata": {},
   "outputs": [],
   "source": [
    "#Tworzenie nowego RDD z pliku tekstowego bbc_news.txt:    \n",
    "bbc_news = sc.textFile(\"/home/jovyan/bbc_news.txt\")"
   ]
  },
  {
   "cell_type": "code",
   "execution_count": 11,
   "metadata": {},
   "outputs": [
    {
     "data": {
      "text/plain": [
       "849"
      ]
     },
     "execution_count": 11,
     "metadata": {},
     "output_type": "execute_result"
    }
   ],
   "source": [
    "# Number of items in this RDD\n",
    "bbc_news.count()  "
   ]
  },
  {
   "cell_type": "code",
   "execution_count": 14,
   "metadata": {},
   "outputs": [
    {
     "data": {
      "text/plain": [
       "u''"
      ]
     },
     "execution_count": 14,
     "metadata": {},
     "output_type": "execute_result"
    }
   ],
   "source": [
    "# First item in this RDD\n",
    "bbc_news.first()  "
   ]
  },
  {
   "cell_type": "code",
   "execution_count": 33,
   "metadata": {},
   "outputs": [
    {
     "data": {
      "text/plain": [
       "u\"A majority of Minneapolis City Council has pledged to dismantle the local police department, a significant move amid nationwide protests sparked by George Floyd's death last month.\""
      ]
     },
     "execution_count": 33,
     "metadata": {},
     "output_type": "execute_result"
    }
   ],
   "source": [
    "#usuwanie pustych linii\n",
    "bbc_news = bbc_news.filter(lambda x: x != \"\")\n",
    "bbc_news.first() "
   ]
  },
  {
   "cell_type": "code",
   "execution_count": 34,
   "metadata": {},
   "outputs": [
    {
     "data": {
      "text/plain": [
       "821"
      ]
     },
     "execution_count": 34,
     "metadata": {},
     "output_type": "execute_result"
    }
   ],
   "source": [
    "# Number of items in this RDD\n",
    "bbc_news.count()  "
   ]
  },
  {
   "cell_type": "markdown",
   "metadata": {},
   "source": [
    "Oraz transformacje (zwracają wskaźnik do nowego RDD):"
   ]
  },
  {
   "cell_type": "code",
   "execution_count": 15,
   "metadata": {},
   "outputs": [
    {
     "name": "stdout",
     "output_type": "stream",
     "text": [
      "To jest nowe RDD: \n",
      "PythonRDD[19] at RDD at PythonRDD.scala:48\n",
      "Lines with 'black': 121\n",
      "Lines with 'police': 111\n"
     ]
    }
   ],
   "source": [
    "#Liczba wystąpień słowa 'black'\n",
    "linesWithBlack = bbc_news.filter(lambda line: \"black\" in line)\n",
    "print('To jest nowe RDD: ')\n",
    "print (linesWithBlack)\n",
    "print('Lines with \\'black\\': '+ str(linesWithBlack.count()))\n",
    "\n",
    "#Liczba wystąpień słowa 'police'\n",
    "linesWithPolice = bbc_news.filter(lambda line: \"police\" in line)\n",
    "print('Lines with \\'police\\': '+ str(linesWithPolice.count()))\n"
   ]
  },
  {
   "cell_type": "markdown",
   "metadata": {},
   "source": [
    "Klasyczne zliczanie wystąpień słów:"
   ]
  },
  {
   "cell_type": "code",
   "execution_count": 35,
   "metadata": {},
   "outputs": [
    {
     "data": {
      "text/plain": [
       "[(u'the', 1065),\n",
       " (u'to', 606),\n",
       " (u'a', 549),\n",
       " (u'of', 473),\n",
       " (u'and', 448),\n",
       " (u'in', 421),\n",
       " (u'that', 264),\n",
       " (u'was', 220),\n",
       " (u'for', 192),\n",
       " (u'is', 191),\n",
       " (u'on', 175),\n",
       " (u'I', 175),\n",
       " (u'have', 175),\n",
       " (u'been', 138),\n",
       " (u'black', 133)]"
      ]
     },
     "execution_count": 35,
     "metadata": {},
     "output_type": "execute_result"
    }
   ],
   "source": [
    "\n",
    "wordCounts = bbc_news.flatMap(lambda line: line.split()).map(lambda word: (word, 1)).reduceByKey(lambda a, b: a+b)\n",
    "\n",
    "#wordCounts.collect() #unordered\n",
    "\n",
    "\n",
    "wordCounts.takeOrdered(15, key=lambda(k, v): -v)"
   ]
  },
  {
   "cell_type": "code",
   "execution_count": 17,
   "metadata": {},
   "outputs": [
    {
     "name": "stdout",
     "output_type": "stream",
     "text": [
      "--2020-06-08 07:01:01--  http://tacit.usc.edu/resources/stopwords_eng.txt\n",
      "Resolving tacit.usc.edu (tacit.usc.edu)... 68.181.64.53\n",
      "Connecting to tacit.usc.edu (tacit.usc.edu)|68.181.64.53|:80... connected.\n",
      "HTTP request sent, awaiting response... 200 OK\n",
      "Length: 669 [text/plain]\n",
      "Saving to: ‘stopwords_eng.txt’\n",
      "\n",
      "stopwords_eng.txt   100%[===================>]     669  --.-KB/s    in 0s      \n",
      "\n",
      "2020-06-08 07:01:01 (51.1 MB/s) - ‘stopwords_eng.txt’ saved [669/669]\n",
      "\n"
     ]
    }
   ],
   "source": [
    "#Download stops words\n",
    "!wget http://tacit.usc.edu/resources/stopwords_eng.txt"
   ]
  },
  {
   "cell_type": "code",
   "execution_count": 19,
   "metadata": {},
   "outputs": [
    {
     "data": {
      "text/plain": [
       "[u'a',\n",
       " u'able',\n",
       " u'about',\n",
       " u'across',\n",
       " u'after',\n",
       " u'all',\n",
       " u'almost',\n",
       " u'also',\n",
       " u'am',\n",
       " u'among']"
      ]
     },
     "execution_count": 19,
     "metadata": {},
     "output_type": "execute_result"
    }
   ],
   "source": [
    "sw = sc.textFile('/home/jovyan/stopwords_eng.txt')\n",
    "sw.take(10)"
   ]
  },
  {
   "cell_type": "code",
   "execution_count": 36,
   "metadata": {},
   "outputs": [
    {
     "data": {
      "text/plain": [
       "[(u'I', 175),\n",
       " (u'black', 133),\n",
       " (u'police', 117),\n",
       " (u'The', 92),\n",
       " (u'people', 81),\n",
       " (u'video', 78),\n",
       " (u'George', 77),\n",
       " (u'-', 75),\n",
       " (u'But', 64),\n",
       " (u'Mr', 54),\n",
       " (u'white', 54),\n",
       " (u'images', 54),\n",
       " (u'\"I', 53),\n",
       " (u'said.', 51),\n",
       " (u'told', 48)]"
      ]
     },
     "execution_count": 36,
     "metadata": {},
     "output_type": "execute_result"
    }
   ],
   "source": [
    "sw_collected= sw.collect()\n",
    "no_stop_words_wordCounts = (wordCounts.filter(lambda (k,v): k not in sw_collected))\n",
    "\n",
    "no_stop_words_wordCounts.takeOrdered(15, key=lambda(k, v): -v)\n"
   ]
  },
  {
   "cell_type": "code",
   "execution_count": 21,
   "metadata": {},
   "outputs": [
    {
     "data": {
      "text/plain": [
       "[(u'the', 1065),\n",
       " (u'to', 606),\n",
       " (u'a', 549),\n",
       " (u'of', 473),\n",
       " (u'and', 448),\n",
       " (u'in', 421),\n",
       " (u'that', 264),\n",
       " (u'was', 220),\n",
       " (u'for', 192),\n",
       " (u'is', 191),\n",
       " (u'on', 175),\n",
       " (u'I', 175),\n",
       " (u'have', 175),\n",
       " (u'been', 138),\n",
       " (u'black', 133)]"
      ]
     },
     "execution_count": 21,
     "metadata": {},
     "output_type": "execute_result"
    }
   ],
   "source": [
    "wordCounts.takeOrdered(15, key=lambda(k, v): -v)"
   ]
  },
  {
   "cell_type": "markdown",
   "metadata": {},
   "source": [
    "## Cache'owanie"
   ]
  },
  {
   "cell_type": "code",
   "execution_count": 37,
   "metadata": {},
   "outputs": [
    {
     "data": {
      "text/plain": [
       "PythonRDD[58] at RDD at PythonRDD.scala:48"
      ]
     },
     "execution_count": 37,
     "metadata": {},
     "output_type": "execute_result"
    }
   ],
   "source": [
    "bbc_news.cache()  "
   ]
  },
  {
   "cell_type": "code",
   "execution_count": 38,
   "metadata": {},
   "outputs": [
    {
     "data": {
      "text/plain": [
       "821"
      ]
     },
     "execution_count": 38,
     "metadata": {},
     "output_type": "execute_result"
    }
   ],
   "source": [
    "bbc_news.count()  "
   ]
  },
  {
   "cell_type": "code",
   "execution_count": 39,
   "metadata": {},
   "outputs": [
    {
     "data": {
      "text/plain": [
       "821"
      ]
     },
     "execution_count": 39,
     "metadata": {},
     "output_type": "execute_result"
    }
   ],
   "source": [
    "bbc_news.count()  "
   ]
  },
  {
   "cell_type": "code",
   "execution_count": 25,
   "metadata": {},
   "outputs": [
    {
     "name": "stdout",
     "output_type": "stream",
     "text": [
      "+-------+--------+------+\n",
      "|   kraj|  miasto|liczba|\n",
      "+-------+--------+------+\n",
      "| Polska|Warszawa|     1|\n",
      "| Polska|  Krakow|     2|\n",
      "| Niemcy|  Berlin|     1|\n",
      "| Niemcy| Hamburg|     3|\n",
      "| Czechy|   Praga|     1|\n",
      "|  Rosja|  Moskwa|     1|\n",
      "|Francja|Beauvais|     7|\n",
      "+-------+--------+------+\n",
      "\n"
     ]
    }
   ],
   "source": [
    "# dane:\n",
    "df_list = [('Polska', 'Warszawa', 1),\n",
    "           ('Polska', 'Krakow', 2),\n",
    "           ('Niemcy', 'Berlin', 1),\n",
    "           ('Niemcy', 'Hamburg', 3),\n",
    "           ('Czechy', 'Praga', 1),\n",
    "           ('Rosja', 'Moskwa', 1),\n",
    "           ('Francja', 'Beauvais', 7)]\n",
    " \n",
    "# budowanie data frame \n",
    "df = spark.createDataFrame(df_list,['kraj', 'miasto', 'liczba'])\n",
    " \n",
    "# wyświetlenie\n",
    "df.show()"
   ]
  },
  {
   "cell_type": "markdown",
   "metadata": {},
   "source": [
    "## SQL"
   ]
  },
  {
   "cell_type": "code",
   "execution_count": 26,
   "metadata": {},
   "outputs": [
    {
     "data": {
      "text/plain": [
       "DataFrame[kraj: string, miasto: string, liczba: bigint]"
      ]
     },
     "execution_count": 26,
     "metadata": {},
     "output_type": "execute_result"
    }
   ],
   "source": [
    "# tworzenie widoku SQL z DataFrame\n",
    "df_sql = df.createOrReplaceTempView(\"dane\")\n",
    " \n",
    "# tworzenie zapytań SQL\n",
    "sql_results = spark.sql(\"SELECT * FROM dane WHERE kraj='Polska'\")\n",
    " \n",
    "sql_results"
   ]
  },
  {
   "cell_type": "code",
   "execution_count": 27,
   "metadata": {},
   "outputs": [
    {
     "name": "stdout",
     "output_type": "stream",
     "text": [
      "+------+--------+------+\n",
      "|  kraj|  miasto|liczba|\n",
      "+------+--------+------+\n",
      "|Polska|Warszawa|     1|\n",
      "|Polska|  Krakow|     2|\n",
      "+------+--------+------+\n",
      "\n"
     ]
    }
   ],
   "source": [
    "sql_results.show()"
   ]
  },
  {
   "cell_type": "code",
   "execution_count": null,
   "metadata": {},
   "outputs": [],
   "source": [
    "def parse_article(line):\n",
    "    try:\n",
    "        article_id, text = unicode(line.rstrip()).split('\\t', 1)\n",
    "        text = re.sub(\"^\\W+|\\W+$\", \"\", text, flags=re.UNICODE)\n",
    "        words = re.split(\"\\W*\\s+\\W*\", text, flags=re.UNICODE)\n",
    "        return words\n",
    "    except ValueError as e:\n",
    "        return []"
   ]
  },
  {
   "cell_type": "code",
   "execution_count": 29,
   "metadata": {},
   "outputs": [],
   "source": [
    "#Nowe RDD zawierające artykuły z wikipedii:    \n",
    "\n",
    "wiki = sc.textFile(\"/data/wiki/en_articles_part/articles-part\", 16).map(parse_article)\n",
    "result = wiki.take(1)[0]\n"
   ]
  },
  {
   "cell_type": "code",
   "execution_count": 30,
   "metadata": {},
   "outputs": [
    {
     "name": "stdout",
     "output_type": "stream",
     "text": [
      "Anarchism\n",
      "Anarchism\n",
      "is\n",
      "often\n",
      "defined\n",
      "as\n",
      "a\n",
      "political\n",
      "philosophy\n",
      "which\n",
      "holds\n",
      "the\n",
      "state\n",
      "to\n",
      "be\n",
      "undesirable\n",
      "unnecessary\n",
      "or\n",
      "harmful\n",
      "The\n",
      "following\n",
      "sources\n",
      "cite\n",
      "anarchism\n",
      "as\n",
      "a\n",
      "political\n",
      "philosophy\n",
      "Slevin\n",
      "Carl\n",
      "Anarchism\n",
      "The\n",
      "Concise\n",
      "Oxford\n",
      "Dictionary\n",
      "of\n",
      "Politics\n",
      "Ed\n",
      "Iain\n",
      "McLean\n",
      "and\n",
      "Alistair\n",
      "McMillan\n",
      "Oxford\n",
      "University\n",
      "Press\n",
      "2003\n",
      "However\n",
      "others\n",
      "argue\n"
     ]
    }
   ],
   "source": [
    "for word in result[:50]:\n",
    "    print word"
   ]
  },
  {
   "cell_type": "code",
   "execution_count": 51,
   "metadata": {},
   "outputs": [],
   "source": [
    "def pairs_starting_from_word(words, first_word='word'):\n",
    "    pairs = []\n",
    "    \n",
    "    for i, word in enumerate(words[:-1]):\n",
    "        if (word == first_word):\n",
    "            pair = '{} — {}'.format(word, words[i+1])\n",
    "            cnt = 1\n",
    "            pairs.append((pair, cnt))\n",
    "        else:\n",
    "            continue\n",
    "    return pairs\n",
    "\n"
   ]
  },
  {
   "cell_type": "code",
   "execution_count": 52,
   "metadata": {},
   "outputs": [],
   "source": [
    "# lowercase all words\n",
    "wiki_lower = wiki.map(lambda words: [x.lower() for x in words])"
   ]
  },
  {
   "cell_type": "code",
   "execution_count": 64,
   "metadata": {},
   "outputs": [],
   "source": [
    "# find pairs starting from defined word\n",
    "wiki_pairs = wiki_lower.flatMap(lambda x: pairs_starting_from_word(x, 'gazeta'))#"
   ]
  },
  {
   "cell_type": "code",
   "execution_count": 69,
   "metadata": {},
   "outputs": [],
   "source": [
    "# filtering empty elements\n",
    "wiki_pairs = wiki_pairs.filter(lambda x: x != [])\n"
   ]
  },
  {
   "cell_type": "code",
   "execution_count": 70,
   "metadata": {},
   "outputs": [],
   "source": [
    "# aggregate counters\n",
    "wiki_red = wiki_pairs.reduceByKey(lambda a, b: a + b, numPartitions=16)"
   ]
  },
  {
   "cell_type": "code",
   "execution_count": 68,
   "metadata": {},
   "outputs": [
    {
     "name": "stdout",
     "output_type": "stream",
     "text": [
      "gazeta — have\t1\n",
      "gazeta — do\t1\n",
      "gazeta — without\t1\n",
      "gazeta — the\t1\n",
      "gazeta — chojnowska\t1\n"
     ]
    }
   ],
   "source": [
    "result = wiki_red.collect()\n",
    "for pair, cnt in result:\n",
    "    print '{}\\t{}'.format(pair, cnt)"
   ]
  },
  {
   "cell_type": "code",
   "execution_count": null,
   "metadata": {},
   "outputs": [],
   "source": [
    "# sort values by key\n",
    "wiki_red_sorted = wiki_red.sortByKey()"
   ]
  },
  {
   "cell_type": "code",
   "execution_count": null,
   "metadata": {},
   "outputs": [],
   "source": [
    "result = wiki_red_sorted.collect()\n",
    "for pair, cnt in result:\n",
    "    print '{}\\t{}'.format(pair, cnt)"
   ]
  },
  {
   "cell_type": "code",
   "execution_count": null,
   "metadata": {},
   "outputs": [],
   "source": []
  }
 ],
 "metadata": {
  "kernelspec": {
   "display_name": "Python 2",
   "language": "python",
   "name": "python2"
  },
  "language_info": {
   "codemirror_mode": {
    "name": "ipython",
    "version": 2
   },
   "file_extension": ".py",
   "mimetype": "text/x-python",
   "name": "python",
   "nbconvert_exporter": "python",
   "pygments_lexer": "ipython2",
   "version": "2.7.12"
  }
 },
 "nbformat": 4,
 "nbformat_minor": 2
}
